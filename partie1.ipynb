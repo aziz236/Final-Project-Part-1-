{
 "cells": [
  {
   "cell_type": "code",
   "execution_count": null,
   "id": "43d33205",
   "metadata": {},
   "outputs": [],
   "source": [
    "def remove_duplicate(list1,list2):\n",
    "  common_values=list(set(list1)&set(list2))\n",
    "  for i in common_values:\n",
    "    list1.remove(i)\n",
    "    list2.remove(i)\n",
    "  return list1+list2\n",
    "  \n",
    "list1=list(input('first person: '))\n",
    "list2=list(input('second person: '))\n",
    "print(remove_duplicate(list1,list2))"
   ]
  }
 ],
 "metadata": {
  "kernelspec": {
   "display_name": "Python 3",
   "language": "python",
   "name": "python3"
  },
  "language_info": {
   "codemirror_mode": {
    "name": "ipython",
    "version": 3
   },
   "file_extension": ".py",
   "mimetype": "text/x-python",
   "name": "python",
   "nbconvert_exporter": "python",
   "pygments_lexer": "ipython3",
   "version": "3.8.8"
  }
 },
 "nbformat": 4,
 "nbformat_minor": 5
}
